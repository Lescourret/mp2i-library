{
 "cells": [
  {
   "cell_type": "code",
   "execution_count": 1,
   "id": "47d34f5a-b426-4f50-96e4-432b7025b887",
   "metadata": {},
   "outputs": [
    {
     "data": {
      "text/plain": [
       "val tranche_max : int array -> int = <fun>\n"
      ]
     },
     "execution_count": 1,
     "metadata": {},
     "output_type": "execute_result"
    }
   ],
   "source": [
    "(*recherche de la tranche maximale d'un tableau avec l'algorithme de Kadane*)\n",
    "\n",
    "\n",
    "let tranche_max t =\n",
    "    let s = ref t.(0) in (*déf d'une référence s*)\n",
    "    let sj = ref t.(0) in (*déf d'une référence sj*)\n",
    "        for j = 1 to Array.length t - 1 do (*boucle for*)\n",
    "            sj := max (!sj + t.(j)) t.(j); (*definition de la somme sj = max(sj−1 + t.(j), t.(j))*)\n",
    "            s := max !s !sj (*on conserve la plus grande des deux sommes*)\n",
    "        done;\n",
    "    !s;;"
   ]
  },
  {
   "cell_type": "code",
   "execution_count": 2,
   "id": "45af61cd-6c7c-4ed6-993f-b9ecbb5552ed",
   "metadata": {},
   "outputs": [
    {
     "data": {
      "text/plain": [
       "- : int = 370\n"
      ]
     },
     "execution_count": 2,
     "metadata": {},
     "output_type": "execute_result"
    }
   ],
   "source": [
    "tranche_max [|5; 9; 19; 66; 12; 30; 89; 140|]"
   ]
  },
  {
   "cell_type": "code",
   "execution_count": null,
   "id": "d3fdc751-d65c-4466-9443-8835bc7e8f02",
   "metadata": {},
   "outputs": [],
   "source": [
    "tranche_max [|-22; 9; 1; 66; 82; 3; 89; 140|]"
   ]
  }
 ],
 "metadata": {
  "kernelspec": {
   "display_name": "OCaml default",
   "language": "OCaml",
   "name": "ocaml-jupyter"
  },
  "language_info": {
   "codemirror_mode": "text/x-ocaml",
   "file_extension": ".ml",
   "mimetype": "text/x-ocaml",
   "name": "OCaml",
   "nbconverter_exporter": null,
   "pygments_lexer": "OCaml",
   "version": "4.08.1"
  }
 },
 "nbformat": 4,
 "nbformat_minor": 5
}
