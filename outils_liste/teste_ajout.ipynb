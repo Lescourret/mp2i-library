{
 "cells": [
  {
   "cell_type": "code",
   "execution_count": 7,
   "id": "b137a2da-7552-4e7a-8fe1-74e71fee451b",
   "metadata": {},
   "outputs": [
    {
     "data": {
      "text/plain": [
       "val insere : 'a -> 'a list -> 'a list = <fun>\n"
      ]
     },
     "execution_count": 7,
     "metadata": {},
     "output_type": "execute_result"
    }
   ],
   "source": [
    "(*insérer un élément dans une liste*)\n",
    "\n",
    "let rec insere e l = match l with\n",
    "    | [] -> [e] (*cas de base*)\n",
    "    | x::q -> if e < x then e::l (*on regarde où plasser e : on le compare donc aux éléments de la liste triée, si e plus petitque le premier élément de la liste alors on le fusionne à la liste*)\n",
    "else x::insere e q;;(*sinon on le compare à l'élément suivant, et ainsi de suite.*)\n"
   ]
  }
 ],
 "metadata": {
  "kernelspec": {
   "display_name": "OCaml default",
   "language": "OCaml",
   "name": "ocaml-jupyter"
  },
  "language_info": {
   "codemirror_mode": "text/x-ocaml",
   "file_extension": ".ml",
   "mimetype": "text/x-ocaml",
   "name": "OCaml",
   "nbconverter_exporter": null,
   "pygments_lexer": "OCaml",
   "version": "4.08.1"
  }
 },
 "nbformat": 4,
 "nbformat_minor": 5
}
