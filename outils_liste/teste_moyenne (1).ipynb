{
 "cells": [
  {
   "cell_type": "code",
   "execution_count": 2,
   "id": "f5065ab4-bb95-4b08-b504-d5770b394f1a",
   "metadata": {},
   "outputs": [
    {
     "data": {
      "text/plain": [
       "val somme : int list -> int = <fun>\n"
      ]
     },
     "execution_count": 2,
     "metadata": {},
     "output_type": "execute_result"
    },
    {
     "data": {
      "text/plain": [
       "val moyenne : int list -> int = <fun>\n"
      ]
     },
     "execution_count": 2,
     "metadata": {},
     "output_type": "execute_result"
    }
   ],
   "source": [
    "let rec somme = function\n",
    "    | [] -> 0\n",
    "    | e::q -> e + somme q;;\n",
    "\n",
    "(* on définit tout d'abord une fonction qui somme l'ensemble des termes de la liste puis on divise par la taille de la liste. *)\n",
    "let moyenne l = (somme l) / (List.length l);;"
   ]
  },
  {
   "cell_type": "code",
   "execution_count": 3,
   "id": "eaca10a6-48ec-43ef-8264-da9a86fb2157",
   "metadata": {},
   "outputs": [
    {
     "data": {
      "text/plain": [
       "- : int = 11\n"
      ]
     },
     "execution_count": 3,
     "metadata": {},
     "output_type": "execute_result"
    }
   ],
   "source": [
    "moyenne [3; 33; 2; 10; 9]"
   ]
  },
  {
   "cell_type": "code",
   "execution_count": 4,
   "id": "d9cb6081-e703-45f0-9596-db62e51d05c9",
   "metadata": {},
   "outputs": [
    {
     "data": {
      "text/plain": [
       "- : int = 34\n"
      ]
     },
     "execution_count": 4,
     "metadata": {},
     "output_type": "execute_result"
    }
   ],
   "source": [
    "moyenne [3; 0; 99; 2; 67]"
   ]
  }
 ],
 "metadata": {
  "kernelspec": {
   "display_name": "OCaml default",
   "language": "OCaml",
   "name": "ocaml-jupyter"
  },
  "language_info": {
   "codemirror_mode": "text/x-ocaml",
   "file_extension": ".ml",
   "mimetype": "text/x-ocaml",
   "name": "OCaml",
   "nbconverter_exporter": null,
   "pygments_lexer": "OCaml",
   "version": "4.08.1"
  }
 },
 "nbformat": 4,
 "nbformat_minor": 5
}
