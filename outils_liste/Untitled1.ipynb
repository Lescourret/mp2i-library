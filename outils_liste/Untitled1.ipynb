{
 "cells": [
  {
   "cell_type": "code",
   "execution_count": 1,
   "id": "8d54f11c-d1b2-42c9-8393-ce73751e8ed6",
   "metadata": {},
   "outputs": [
    {
     "data": {
      "text/plain": [
       "val fusion : 'a list -> 'a list -> 'a list = <fun>\n"
      ]
     },
     "execution_count": 1,
     "metadata": {},
     "output_type": "execute_result"
    }
   ],
   "source": [
    "(*fusionner deux listes*)\n",
    "\n",
    "\n",
    "let rec fusion l1 l2 = match l1, l2 with\n",
    "| [], _ -> l2 (*cas de base*)\n",
    "| _, [] -> l1 (*cas de base*)\n",
    "| e1::q1, e2::q2 when e1 < e2 -> e1::fusion q1 l2 \n",
    "| e1::q1, e2::q2 -> e2::fusion l1 q2 \n"
   ]
  },
  {
   "cell_type": "code",
   "execution_count": 2,
   "id": "ca429c4b-5fdc-4726-b816-63e5cd5d737f",
   "metadata": {},
   "outputs": [
    {
     "data": {
      "text/plain": [
       "- : int list = [5; 9; 19; 6; 22; 0; 8; 14]\n"
      ]
     },
     "execution_count": 2,
     "metadata": {},
     "output_type": "execute_result"
    }
   ],
   "source": [
    "fusion [5; 9; 19; 6] [22; 0; 8; 14]"
   ]
  }
 ],
 "metadata": {
  "kernelspec": {
   "display_name": "OCaml default",
   "language": "OCaml",
   "name": "ocaml-jupyter"
  },
  "language_info": {
   "codemirror_mode": "text/x-ocaml",
   "file_extension": ".ml",
   "mimetype": "text/x-ocaml",
   "name": "OCaml",
   "nbconverter_exporter": null,
   "pygments_lexer": "OCaml",
   "version": "4.08.1"
  }
 },
 "nbformat": 4,
 "nbformat_minor": 5
}
